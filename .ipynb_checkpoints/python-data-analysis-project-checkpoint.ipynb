{
 "cells": [
  {
   "cell_type": "markdown",
   "id": "a01a1702",
   "metadata": {},
   "source": [
    "## Introduction:\n",
    "The data I used is from the public data repository earthdata.nasa.gov, and is titled: ABoVE: Synthesis of Burned and Unburned Forest Site Data, AK and Canada, 1983-2016\n",
    "The questions I asked when analyzing this data:\n",
    "1. How does the average total carbon combusted vary across different ecoregions?\n",
    "2. What is the relationship between stand age and total carbon combusted?\n",
    "3. What is the distribution of total carbon combusted across all sites?\n",
    "4. How do fire danger indices, such as the Fire Weather Index (FWI), change over time?\n",
    "5. What are the temporal trends in total carbon combusted over the years?\n",
    "6. How do soil carbon levels relate to total carbon combusted during fires?\n",
    "7. What is the average stand age across different ecoregions?\n",
    "8. What are the correlations between key variables such as total carbon combusted, stand age, and fire weather indices?\n",
    "9. How does the burn depth impact soil carbon content?\n",
    "10. How has precipitation varied over time in areas affected by fires?\n"
   ]
  },
  {
   "cell_type": "code",
   "execution_count": 1,
   "id": "6b1c67bb-e72f-4c1d-9648-271762d08c19",
   "metadata": {},
   "outputs": [],
   "source": [
    "import pandas as pd\n",
    "import numpy as np"
   ]
  },
  {
   "cell_type": "code",
   "execution_count": 2,
   "id": "d9d4da34-ea91-4854-9368-fd13b355da54",
   "metadata": {},
   "outputs": [],
   "source": [
    "# Load the datasets into pandas DataFrames\n",
    "burned_plot_data = pd.read_csv(\"AK_CA_Burned_Plot_Data_1983_2016.csv\")\n",
    "soil_profile_data = pd.read_csv(\"AK_CA_Soil_Profile_Synthesis.csv\")"
   ]
  },
  {
   "cell_type": "code",
   "execution_count": null,
   "id": "686a3a22-2e4f-40f2-8867-d5442816eb51",
   "metadata": {},
   "outputs": [],
   "source": [
    "burned_plot_data.head()"
   ]
  },
  {
   "cell_type": "code",
   "execution_count": null,
   "id": "b01f6309-8f42-40f3-8d6c-e1bd9a1fd96e",
   "metadata": {},
   "outputs": [],
   "source": [
    "soil_profile_data.head()"
   ]
  },
  {
   "cell_type": "markdown",
   "id": "af54d019",
   "metadata": {},
   "source": [
    "## THE STRUCTURE OF DATA:"
   ]
  },
  {
   "cell_type": "code",
   "execution_count": null,
   "id": "828b7f30-753d-4cfa-889a-18bdc0b3e4d8",
   "metadata": {},
   "outputs": [],
   "source": [
    "# Check the structure and missing data\n",
    "burned_plot_data.info()"
   ]
  },
  {
   "cell_type": "code",
   "execution_count": null,
   "id": "6f1b82d2-421f-4dce-ac66-542a3e95fb36",
   "metadata": {},
   "outputs": [],
   "source": [
    "soil_profile_data.info()"
   ]
  },
  {
   "cell_type": "markdown",
   "id": "015c787b",
   "metadata": {},
   "source": [
    "## SUMMARY STATISTICS:"
   ]
  },
  {
   "cell_type": "code",
   "execution_count": null,
   "id": "3a4cda49-0cc5-430c-b17b-761434c01c1c",
   "metadata": {},
   "outputs": [],
   "source": [
    "# Get a quick summary of numerical data\n",
    "burned_plot_data.describe()"
   ]
  },
  {
   "cell_type": "code",
   "execution_count": null,
   "id": "e3e6eb88-7bb6-42c3-8648-f7522d0f0569",
   "metadata": {},
   "outputs": [],
   "source": [
    "soil_profile_data.describe()"
   ]
  },
  {
   "cell_type": "markdown",
   "id": "9b1fd06d",
   "metadata": {},
   "source": [
    "## DATA CLEANING:"
   ]
  },
  {
   "cell_type": "code",
   "execution_count": 11,
   "id": "269af2f3-563e-4846-96a1-321b16e84e4d",
   "metadata": {},
   "outputs": [],
   "source": [
    "# Replace -9999.0 with NaN for meaningful missing values\n",
    "burned_plot_data.replace(-9999.0, np.nan, inplace=True)\n",
    "soil_profile_data.replace(-9999.0, np.nan, inplace=True)"
   ]
  },
  {
   "cell_type": "code",
   "execution_count": null,
   "id": "fd60cf26-4402-41f0-a8c9-d3a3d697fe5a",
   "metadata": {},
   "outputs": [],
   "source": [
    "# Check the number of missing values per column\n",
    "burned_plot_data.isnull().sum()"
   ]
  },
  {
   "cell_type": "code",
   "execution_count": null,
   "id": "853a9d0e-cff8-4a02-9fc0-269c806977df",
   "metadata": {},
   "outputs": [],
   "source": [
    "soil_profile_data.isnull().sum()"
   ]
  },
  {
   "cell_type": "code",
   "execution_count": 15,
   "id": "e27ad0d9-b50d-4f39-9122-7461a8d95fba",
   "metadata": {},
   "outputs": [],
   "source": [
    "# Drop columns with more than 50% missing values\n",
    "burned_plot_data = burned_plot_data.dropna(thresh=len(burned_plot_data) * 0.5, axis=1)\n",
    "soil_profile_data = soil_profile_data.dropna(thresh=len(soil_profile_data) * 0.5, axis=1)"
   ]
  },
  {
   "cell_type": "code",
   "execution_count": null,
   "id": "286f6ea6-a5d8-4bcb-9259-39f0ad690ce2",
   "metadata": {},
   "outputs": [],
   "source": [
    "# Verify the updated structure\n",
    "burned_plot_data.info()"
   ]
  },
  {
   "cell_type": "code",
   "execution_count": null,
   "id": "9a42680a-e0cb-43e0-a6ca-f728bb2b6beb",
   "metadata": {},
   "outputs": [],
   "source": [
    "soil_profile_data.info()"
   ]
  },
  {
   "cell_type": "code",
   "execution_count": 18,
   "id": "222775e4-9070-4a30-bbe5-5ffdc436a2b6",
   "metadata": {},
   "outputs": [],
   "source": [
    "# Remove duplicates\n",
    "burned_plot_data.drop_duplicates(inplace=True)\n",
    "soil_profile_data.drop_duplicates(inplace=True)"
   ]
  },
  {
   "cell_type": "markdown",
   "id": "2aee95a4",
   "metadata": {},
   "source": [
    "## STANDARDIZING DATA:"
   ]
  },
  {
   "cell_type": "code",
   "execution_count": 19,
   "id": "da559a37-bf1c-44b3-9fb3-b521c0024233",
   "metadata": {},
   "outputs": [],
   "source": [
    "# Ensure the column 'site' is consistent between both datasets\n",
    "burned_plot_data['site'] = burned_plot_data['site'].str.strip()\n",
    "soil_profile_data['site'] = soil_profile_data['site'].str.strip()"
   ]
  },
  {
   "cell_type": "code",
   "execution_count": 20,
   "id": "6cbf4dc5-638c-4428-a08d-66bd7c8276c1",
   "metadata": {},
   "outputs": [],
   "source": [
    "# Save cleaned datasets to new CSV files\n",
    "burned_plot_data.to_csv(\"cleaned_burned_plot_data.csv\", index=False)\n",
    "soil_profile_data.to_csv(\"cleaned_soil_profile_data.csv\", index=False)"
   ]
  },
  {
   "cell_type": "markdown",
   "id": "67c956aa",
   "metadata": {},
   "source": [
    "## DATA VISUALIZATION:"
   ]
  },
  {
   "cell_type": "code",
   "execution_count": 21,
   "id": "5356ec88-0e9a-4598-bf82-d9e003fe7a18",
   "metadata": {},
   "outputs": [],
   "source": [
    "import seaborn as sns\n",
    "import matplotlib.pyplot as plt"
   ]
  },
  {
   "cell_type": "markdown",
   "id": "ab50c98c",
   "metadata": {},
   "source": [
    "histogram of total carbon combusted:"
   ]
  },
  {
   "cell_type": "code",
   "execution_count": 24,
   "id": "6ad6b7a4-5921-495b-86db-dc5dab1447b4",
   "metadata": {},
   "outputs": [],
   "source": [
    "burned_plot_data['total_c_combusted'] = (\n",
    "    burned_plot_data['ag_c_combusted'] + burned_plot_data['bg_c_combusted']\n",
    ")"
   ]
  },
  {
   "cell_type": "code",
   "execution_count": null,
   "id": "91ca4762-46a2-4771-8647-c600d9cb9365",
   "metadata": {},
   "outputs": [],
   "source": [
    "sns.histplot(burned_plot_data['total_c_combusted'], kde=True)\n",
    "plt.title(\"Distribution of Total Carbon Combusted\")\n",
    "plt.xlabel(\"Total Carbon Combusted\")\n",
    "plt.ylabel(\"Frequency\")\n",
    "plt.show()"
   ]
  },
  {
   "cell_type": "code",
   "execution_count": null,
   "id": "99767ab7-a8fa-4de1-be69-8c428b534265",
   "metadata": {},
   "outputs": [],
   "source": [
    "burned_plot_data[['ag_c_combusted', 'bg_c_combusted', 'total_c_combusted']].head()"
   ]
  },
  {
   "cell_type": "markdown",
   "id": "8fc7a9b0",
   "metadata": {},
   "source": [
    "Scatter Plot: Stand Age vs. Total Carbon Combusted"
   ]
  },
  {
   "cell_type": "code",
   "execution_count": null,
   "id": "07e1813a-d932-4080-b710-ac985cd0fabd",
   "metadata": {},
   "outputs": [],
   "source": [
    "# Scatter plot of stand age vs. total carbon combusted\n",
    "sns.scatterplot(x='stand_age', y='total_c_combusted', data=burned_plot_data)\n",
    "plt.title(\"Stand Age vs Total Carbon Combusted\")\n",
    "plt.xlabel(\"Stand Age\")\n",
    "plt.ylabel(\"Total Carbon Combusted\")\n",
    "plt.show()"
   ]
  },
  {
   "cell_type": "markdown",
   "id": "31930237",
   "metadata": {},
   "source": [
    "Average Total Carbon Combusted by Ecoregion"
   ]
  },
  {
   "cell_type": "code",
   "execution_count": null,
   "id": "7a9869a3-a657-493e-a376-8e1933001cd3",
   "metadata": {},
   "outputs": [],
   "source": [
    "ecoregion_combustion = burned_plot_data.groupby('ecoregion_name_l2')['total_c_combusted'].mean()\n",
    "print(ecoregion_combustion)"
   ]
  },
  {
   "cell_type": "code",
   "execution_count": null,
   "id": "65bba66d-dd72-4990-9337-5708fe5ef5f8",
   "metadata": {},
   "outputs": [],
   "source": [
    "# Plot the results\n",
    "ecoregion_combustion.plot(kind='bar', figsize=(10, 6))\n",
    "plt.title('Average Total Carbon Combusted by Ecoregion')\n",
    "plt.xlabel('Ecoregion')\n",
    "plt.ylabel('Average Total Carbon Combusted')\n",
    "plt.show()"
   ]
  },
  {
   "cell_type": "markdown",
   "id": "49d8d014",
   "metadata": {},
   "source": [
    "## Correlation Analysis"
   ]
  },
  {
   "cell_type": "markdown",
   "id": "9ab3e62b",
   "metadata": {},
   "source": [
    "Correlation Heatmap for Numerical Variables"
   ]
  },
  {
   "cell_type": "code",
   "execution_count": 37,
   "id": "a0c04c8d-3b1e-43d8-a84e-424c5f73b174",
   "metadata": {},
   "outputs": [],
   "source": [
    "# Select only numeric columns\n",
    "numeric_data = burned_plot_data.select_dtypes(include=['float64', 'int64'])"
   ]
  },
  {
   "cell_type": "code",
   "execution_count": null,
   "id": "03003480-4212-4cc2-bb86-4dba3297d3ad",
   "metadata": {},
   "outputs": [],
   "source": [
    "# Compute correlation and plot heatmap\n",
    "plt.figure(figsize=(12, 10))  # Increase figure size\n",
    "sns.heatmap(numeric_data.corr(), annot=True, fmt=\".2f\", cmap=\"coolwarm\")\n",
    "plt.title('Correlation Heatmap for Numerical Variables')\n",
    "plt.xticks(rotation=45)\n",
    "plt.yticks(rotation=0)\n",
    "plt.show()"
   ]
  },
  {
   "cell_type": "code",
   "execution_count": null,
   "id": "a0685642-f29b-46fe-ad6a-ebb2e0f04e98",
   "metadata": {},
   "outputs": [],
   "source": [
    "#for readability: \n",
    "key_vars = [\n",
    "    'ag_c_combusted', 'bg_c_combusted', 'total_c_combusted',\n",
    "    'prefire_sol', 'mean_residual_org_layer_depth',\n",
    "    'fire_weather_index', 'drought_code', 'stand_age'\n",
    "]\n",
    "sns.heatmap(burned_plot_data[key_vars].corr(), annot=True, fmt=\".2f\", cmap=\"coolwarm\")\n",
    "plt.title('Correlation Heatmap (Key Variables)')\n",
    "plt.xticks(rotation=45)\n",
    "plt.show()"
   ]
  },
  {
   "cell_type": "markdown",
   "id": "92a36e94",
   "metadata": {},
   "source": [
    "## Temporal Analysis"
   ]
  },
  {
   "cell_type": "markdown",
   "id": "26aa39d7",
   "metadata": {},
   "source": [
    "Trend of Total Carbon Combusted Over Time"
   ]
  },
  {
   "cell_type": "code",
   "execution_count": null,
   "id": "eff0aba7-bb83-4414-a447-e77735e246d3",
   "metadata": {},
   "outputs": [],
   "source": [
    "# Temporal trend of total carbon combusted\n",
    "temporal_trend = burned_plot_data.groupby('burn_year')['total_c_combusted'].mean()\n",
    "temporal_trend.plot(kind='line', figsize=(10, 6))\n",
    "plt.title('Trend of Total Carbon Combusted Over Time')\n",
    "plt.xlabel('Year')\n",
    "plt.ylabel('Average Total Carbon Combusted')\n",
    "plt.show() "
   ]
  },
  {
   "cell_type": "markdown",
   "id": "747a3c38",
   "metadata": {},
   "source": [
    "Trend of Fire Weather Index Over Time"
   ]
  },
  {
   "cell_type": "code",
   "execution_count": null,
   "id": "540a56af-0f25-4b9c-a860-a7f7298c98f2",
   "metadata": {},
   "outputs": [],
   "source": [
    "# Temporal trend of Fire Weather Index\n",
    "fwi_trend = burned_plot_data.groupby('burn_year')['fire_weather_index'].mean()\n",
    "fwi_trend.plot(kind='line', figsize=(10, 6), color='orange')\n",
    "plt.title('Trend of Fire Weather Index Over Time')\n",
    "plt.xlabel('Year')\n",
    "plt.ylabel('Average Fire Weather Index')\n",
    "plt.show()"
   ]
  },
  {
   "cell_type": "markdown",
   "id": "1f16c1a0",
   "metadata": {},
   "source": [
    "Scatter Plot: Soil Carbon vs. Total Carbon Combusted"
   ]
  },
  {
   "cell_type": "code",
   "execution_count": null,
   "id": "92fb0b93-64ae-4b12-9961-865d48a20a76",
   "metadata": {},
   "outputs": [],
   "source": [
    "# Merge burned_plot_data and soil_profile_data on 'site'\n",
    "merged_data = pd.merge(burned_plot_data, soil_profile_data, on='site', how='inner')\n",
    "\n",
    "# Correlation between soil carbon and total carbon combusted\n",
    "sns.scatterplot(x='carbon', y='total_c_combusted', data=merged_data)\n",
    "plt.title('Soil Carbon vs Total Carbon Combusted')\n",
    "plt.xlabel('Soil Carbon')\n",
    "plt.ylabel('Total Carbon Combusted')\n",
    "plt.show()"
   ]
  },
  {
   "cell_type": "markdown",
   "id": "e4b48f6e",
   "metadata": {},
   "source": [
    "Average Stand Age by Ecoregion"
   ]
  },
  {
   "cell_type": "code",
   "execution_count": null,
   "id": "bf209da8-4557-4bdf-8877-9fbaa50b20e7",
   "metadata": {},
   "outputs": [],
   "source": [
    "# Average stand age by ecoregion\n",
    "avg_stand_age = burned_plot_data.groupby('ecoregion_name_l2')['stand_age'].mean()\n",
    "avg_stand_age.plot(kind='bar', figsize=(10, 6), color='green')\n",
    "plt.title('Average Stand Age by Ecoregion')\n",
    "plt.xlabel('Ecoregion')\n",
    "plt.ylabel('Average Stand Age')\n",
    "plt.show()"
   ]
  },
  {
   "cell_type": "markdown",
   "id": "fa44b875",
   "metadata": {},
   "source": [
    "Density Plot of Fire Weather Index"
   ]
  },
  {
   "cell_type": "code",
   "execution_count": null,
   "id": "37339839-7812-4a6f-ae4e-88e0d5697c60",
   "metadata": {},
   "outputs": [],
   "source": [
    "sns.kdeplot(burned_plot_data['fire_weather_index'], fill=True, color='purple')\n",
    "plt.title('Density Plot of Fire Weather Index')\n",
    "plt.xlabel('Fire Weather Index')\n",
    "plt.ylabel('Density')\n",
    "plt.show()"
   ]
  },
  {
   "cell_type": "markdown",
   "id": "715333cd",
   "metadata": {},
   "source": [
    "Correlation Heatmap for Soil and Fire Characteristics"
   ]
  },
  {
   "cell_type": "code",
   "execution_count": null,
   "id": "efd49df6-6421-4428-aad5-67f87c8c81dd",
   "metadata": {},
   "outputs": [],
   "source": [
    "burned_plot_data.columns = burned_plot_data.columns.str.strip()\n",
    "soil_profile_data.columns = soil_profile_data.columns.str.strip()\n",
    "# Remove nonexistent columns\n",
    "existing_columns = [col for col in relevant_columns if col in merged_data.columns]\n",
    "print(f\"Using columns: {existing_columns}\")\n",
    "corr_matrix = merged_data[existing_columns].corr()\n",
    "merged_data_cleaned = merged_data[existing_columns].dropna()\n",
    "corr_matrix = merged_data_cleaned.corr()\n",
    "sns.heatmap(corr_matrix, annot=True, fmt=\".2f\", cmap=\"coolwarm\")\n",
    "plt.title('Correlation Heatmap: Soil and Fire Characteristics')\n",
    "plt.show()"
   ]
  },
  {
   "cell_type": "markdown",
   "id": "e3eb72e2",
   "metadata": {},
   "source": [
    "Burn Depth vs. Soil Carbon Content"
   ]
  },
  {
   "cell_type": "code",
   "execution_count": null,
   "id": "d6a7be15-380e-4ecb-987f-4a9ca063401d",
   "metadata": {},
   "outputs": [],
   "source": [
    "sns.scatterplot(x='burn_depth', y='carbon', data=merged_data)\n",
    "plt.title('Burn Depth vs Soil Carbon Content')\n",
    "plt.xlabel('Burn Depth (cm)')\n",
    "plt.ylabel('Soil Carbon Content')\n",
    "plt.show()"
   ]
  },
  {
   "cell_type": "markdown",
   "id": "29644ca3",
   "metadata": {},
   "source": [
    "Trend of Precipitation Over Time"
   ]
  },
  {
   "cell_type": "code",
   "execution_count": null,
   "id": "302e718c-41d1-46dc-bc25-78d785e4326c",
   "metadata": {},
   "outputs": [],
   "source": [
    "# Average precipitation by year\n",
    "precipitation_trend = burned_plot_data.groupby('burn_year')['precipitation'].mean()\n",
    "precipitation_trend.plot(kind='line', figsize=(10, 6), color='blue')\n",
    "plt.title('Trend of Precipitation Over Time')\n",
    "plt.xlabel('Year')\n",
    "plt.ylabel('Average Precipitation')\n",
    "plt.show()"
   ]
  },
  {
   "cell_type": "markdown",
   "id": "f66a3fe2",
   "metadata": {},
   "source": [
    "Boxplot of Total Carbon Combusted"
   ]
  },
  {
   "cell_type": "code",
   "execution_count": null,
   "id": "5c4aa161-fee5-429c-b99e-ac58049f4986",
   "metadata": {},
   "outputs": [],
   "source": [
    "sns.boxplot(x='total_c_combusted', data=burned_plot_data)\n",
    "plt.title('Boxplot of Total Carbon Combusted')\n",
    "plt.xlabel('Total Carbon Combusted')\n",
    "plt.show()"
   ]
  },
  {
   "cell_type": "markdown",
   "id": "65307313",
   "metadata": {},
   "source": [
    "# Conclusion\n",
    "\n",
    "This analysis explored various aspects of the burned and unburned sites in boreal forests, focusing on carbon combustion, soil properties, and fire-related weather indices. The following key insights were derived:\n",
    "\n",
    "1. Ecoregion Analysis: \n",
    "   - The average total carbon combusted varied significantly across different ecoregions, with the Boreal Cordillera exhibiting the highest average combustion.\n",
    "   - This highlights the role of geographical and ecological factors in fire behavior.\n",
    "\n",
    "2. Stand Age and Carbon Combustion:\n",
    "   - A positive relationship between stand age and total carbon combusted was observed, suggesting that older stands may store more biomass and release more carbon during fires.\n",
    "\n",
    "3. Temporal Trends:\n",
    "   - The Fire Weather Index (FWI) showed observable trends over time, indicating increasing fire danger in specific years.\n",
    "   - Total carbon combusted also demonstrated variations over the years, possibly driven by climatic and ecological changes.\n",
    "\n",
    "4. Soil Properties and Fire Impact:\n",
    "   - Soil carbon content was found to correlate with total carbon combusted, emphasizing the significant role of fire in altering soil composition.\n",
    "   - Burn depth was inversely related to soil carbon content, indicating that deeper burns result in lower residual soil carbon levels.\n",
    "\n",
    "5. Weather Factors and Fire Behavior:\n",
    "   - Fire danger indices such as drought codes and precipitation levels showed a relationship with total carbon combusted, further underlining the influence of weather on fire intensity and impact.\n",
    "\n",
    "This study provides a comprehensive view of the interaction between fire, vegetation, soil, and weather in boreal forests. By examining these factors, we gain valuable insights into the dynamics of forest fires, enabling better forest management and fire mitigation strategies.\n"
   ]
  },
  {
   "cell_type": "code",
   "execution_count": null,
   "id": "f836757c-7f6f-4c5c-8d4b-9fb1a195030e",
   "metadata": {},
   "outputs": [],
   "source": []
  }
 ],
 "metadata": {
  "kernelspec": {
   "display_name": "Python 3",
   "language": "python",
   "name": "python3"
  },
  "language_info": {
   "codemirror_mode": {
    "name": "ipython",
    "version": 3
   },
   "file_extension": ".py",
   "mimetype": "text/x-python",
   "name": "python",
   "nbconvert_exporter": "python",
   "pygments_lexer": "ipython3",
   "version": "3.12.1"
  }
 },
 "nbformat": 4,
 "nbformat_minor": 5
}
